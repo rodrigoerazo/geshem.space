{
 "cells": [
  {
   "cell_type": "code",
   "execution_count": 3,
   "metadata": {},
   "outputs": [],
   "source": [
    "from PIL import Image"
   ]
  },
  {
   "cell_type": "code",
   "execution_count": 30,
   "metadata": {},
   "outputs": [],
   "source": [
    "img = Image.open('samples/jordan2.png')"
   ]
  },
  {
   "cell_type": "code",
   "execution_count": 31,
   "metadata": {},
   "outputs": [],
   "source": [
    "COLORS = [\n",
    "    (128,0,0),\n",
    "    (200,0,0),\n",
    "    (255,63,0),\n",
    "    (255,115,0),\n",
    "    (255,229,0),\n",
    "    (255,247,192),\n",
    "    (255,255,255),\n",
    "    (120,235,255),\n",
    "    (50,200,255),\n",
    "    (0,121,255),\n",
    "    (0,0,199)\n",
    "]"
   ]
  },
  {
   "cell_type": "code",
   "execution_count": 32,
   "metadata": {},
   "outputs": [],
   "source": [
    "m = img.load()\n",
    "s = img.size\n",
    "for x in range(s[0]):\n",
    "    for y in range(s[1]):\n",
    "        if m[x,y] not in COLORS:\n",
    "            m[x,y] = (0,0,0)"
   ]
  },
  {
   "cell_type": "code",
   "execution_count": 33,
   "metadata": {},
   "outputs": [],
   "source": [
    "img.show()"
   ]
  },
  {
   "cell_type": "code",
   "execution_count": null,
   "metadata": {},
   "outputs": [],
   "source": []
  }
 ],
 "metadata": {
  "kernelspec": {
   "display_name": "Python 3",
   "language": "python",
   "name": "python3"
  },
  "language_info": {
   "codemirror_mode": {
    "name": "ipython",
    "version": 3
   },
   "file_extension": ".py",
   "mimetype": "text/x-python",
   "name": "python",
   "nbconvert_exporter": "python",
   "pygments_lexer": "ipython3",
   "version": "3.7.1"
  }
 },
 "nbformat": 4,
 "nbformat_minor": 2
}
